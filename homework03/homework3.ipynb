{
 "cells": [
  {
   "cell_type": "markdown",
   "metadata": {
    "collapsed": true,
    "pycharm": {
     "name": "#%% md\n"
    }
   },
   "source": [
    "# Homework 2\n",
    "\n",
    "## 3.1\n",
    "\n",
    "$\\begin{aligned}\n",
    "    \\textbf Gain(Price?)\n",
    "        &= Entropy(Restaurant) - Remainder(Price?) \\\\\n",
    "        &= -(6/12*lg(6/12)+6/12*lg(6/12))-((7/12) Entropy(\\$)+(2/12) Entropy(\\$\\$)+(3/12) Entropy(\\$\\$\\$)) \\\\\n",
    "        &= 1.0 - (7/12*(-(3/7*lg(3/7)+4/7*lg(4/7)))+2/12*(-(2/2*lg(2/2)+0/2*lg(0/2)))+3/12*(-(1/3*lg(1/3)+2/3*lg(2/3)))) \\\\\n",
    "        &= 1.0 - (7/12*0.985 + 2/12*0.0 + 3/12*0.918) \\\\\n",
    "        &= 1.0 - 0.804 \\\\\n",
    "        &= 0.196\n",
    "    \\end{aligned}$\n",
    "    \n",
    "The information gain provided by using the price attribute as the root of the decision tree is 0.196 bits. This is more\n",
    "valuable than the Types? question which gained 0 bits of information but less valuable than the Patrons? question which\n",
    "gained 0.54 bits of information.\n",
    "\n",
    "## 3.2\n",
    "[Reference](http://mnemstudio.org/neural-networks-multilayer-perceptrons.htm)\n",
    "[[https://github.com/Jonri2/cs344/blob/master/homework03/Homework3_XOR.PNG]]\n"
   ]
  }
 ],
 "metadata": {
  "kernelspec": {
   "display_name": "Python 3",
   "language": "python",
   "name": "python3"
  },
  "language_info": {
   "codemirror_mode": {
    "name": "ipython",
    "version": 2
   },
   "file_extension": ".py",
   "mimetype": "text/x-python",
   "name": "python",
   "nbconvert_exporter": "python",
   "pygments_lexer": "ipython2",
   "version": "2.7.6"
  },
  "pycharm": {
   "stem_cell": {
    "cell_type": "raw",
    "source": [],
    "metadata": {
     "collapsed": false
    }
   }
  }
 },
 "nbformat": 4,
 "nbformat_minor": 0
}