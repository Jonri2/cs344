{
 "cells": [
  {
   "cell_type": "markdown",
   "metadata": {
    "collapsed": true,
    "pycharm": {
     "name": "#%% md\n"
    }
   },
   "source": [
    "# Proposal Draft\n",
    "\n",
    "I would like to design a recurrent neural network to predict the attitude and effort of a runner on a 1-10 scale based\n",
    "on a written analysis of their race. I will use Keras as my machine learning framework. The background for this idea\n",
    "comes from my coach who says that the only thing you control in a race is your attitude and your effort. The result\n",
    "itself is out of our control, so he wants us to focus on what we can control. Because of our team values of bringing our\n",
    "best attitude and effort on race day, we started having everyone fill out a post-race analysis and posting it at\n",
    "http://calvinpostrace.herokuapp.com/ (a website created by Jason Klaassen). We now have ~370 posts of about 200 words, each having their own attitude and effort ratings. So, I\n",
    "would like to train my neural network on these posts so that it can learn to predict attitude and effort just based on the\n",
    "words in the analysis. I have concerns that the dataset is way too small to find any meaningful patterns to generalize\n",
    "and not overfit, so I would use k-fold validation to try to combat this. However, I also came up with an alternative\n",
    "proposal if you think that the size of the dataset is too big of a problem to overcome.\n",
    "\n",
    "My alternative proposal is to design a neural network using Keras which can take NFL game data and predict either whether a team\n",
    "will win/lose a game or if the game will be over/under the betting line (I'm not sure which would be easier). The\n",
    "model could take inputs such as the record of the team, the weather on the day, or just basic stats about the team (such\n",
    "as average points allowed/scored). I found these blog posts to get me started: http://timothykylethomas.me/nfl-prediction-1.html,\n",
    "https://alexk307.github.io/nfl-scraper/ but I couldn't find anything that used Keras.\n",
    "\n",
    "\n",
    "\n"
   ]
  }
 ],
 "metadata": {
  "kernelspec": {
   "display_name": "Python 3",
   "language": "python",
   "name": "python3"
  },
  "language_info": {
   "codemirror_mode": {
    "name": "ipython",
    "version": 2
   },
   "file_extension": ".py",
   "mimetype": "text/x-python",
   "name": "python",
   "nbconvert_exporter": "python",
   "pygments_lexer": "ipython2",
   "version": "2.7.6"
  },
  "pycharm": {
   "stem_cell": {
    "cell_type": "raw",
    "source": [],
    "metadata": {
     "collapsed": false
    }
   }
  }
 },
 "nbformat": 4,
 "nbformat_minor": 0
}