{
 "cells": [
  {
   "cell_type": "markdown",
   "metadata": {
    "collapsed": true,
    "pycharm": {
     "name": "#%% md\n"
    }
   },
   "source": [
    "# Homework 2\n",
    "\n",
    "## 3.1\n",
    "\n",
    "$\\begin{aligned}\n",
    "    \\textbf Gain(Price?)\n",
    "        &= Entropy(Restaurant) - Remainder(Price?) \\\\\n",
    "        &= -(6/12*lg(6/12)+6/12*lg(6/12))-((7/12) Entropy(\\$)+(2/12) Entropy(\\$\\$)+(3/12) Entropy(\\$\\$\\$)) \\\\\n",
    "        &= 1.0 - (7/12*(-(3/7*lg(3/7)+4/7*lg(4/7)))+2/12*(-(2/2*lg(2/2)+0/2*lg(0/2)))+3/12*(-(1/3*lg(1/3)+2/3*lg(2/3)))) \\\\\n",
    "        &= 1.0 - (7/12*0.985 + 2/12*0.0 + 3/12*0.918) \\\\\n",
    "        &= 1.0 - 0.804 \\\\\n",
    "        &= 0.196\n",
    "    \\end{aligned}$\n",
    "    \n",
    "The information gain provided by using the price attribute as the root of the decision tree is 0.196 bits. This is more\n",
    "valuable than the Types? question which gained 0 bits of information but less valuable than the Patrons? question which\n",
    "gained 0.54 bits of information.\n",
    "\n",
    "## 3.2\n",
    "[Reference](http://mnemstudio.org/neural-networks-multilayer-perceptrons.htm)\n",
    "![alt text](./Homework3_XOR.PNG)\n",
    "By loosening the constraints of sequential networks, the XOR function can be simplified to just 1 node in the hidden\n",
    "layer and no bias in the input layer. This is done by allowing the input layer to impact both the hidden layer and the\n",
    "output layer rather than having the network be sequential. The weights for the input nodes are 1 and the weight for the\n",
    "node in the hidden layer is -2. The node in the hidden layer is only activated if both of the input nodes are 1, meaning\n",
    "that -2 is only added to the output node if both input nodes are 1, fulfilling the requirements of the XOR function.\n",
    "\n",
    "## 3.3\n",
    "\n",
    "## a. Dimensions"
   ]
  },
  {
   "cell_type": "code",
   "execution_count": 16,
   "outputs": [
    {
     "name": "stdout",
     "text": [
      "Boston Housing Dataset Dimensions:\n",
      "\tTrain X: (404, 13)\n",
      "\tTrain Targets: (404,)\n",
      "\tTest X: (102, 13)\n",
      "\tTest Targets: (102,)\n"
     ],
     "output_type": "stream"
    }
   ],
   "source": [
    "from keras.datasets import boston_housing\n",
    "import pandas as pd\n",
    "import numpy as np\n",
    "\n",
    "\n",
    "(x_train, train_targets), (x_test, test_targets) = boston_housing.load_data()\n",
    "print(\"Boston Housing Dataset Dimensions:\")\n",
    "print(\"\\tTrain X:\", x_train.shape)\n",
    "print(\"\\tTrain Targets:\", train_targets.shape)\n",
    "print(\"\\tTest X:\", x_test.shape)\n",
    "print(\"\\tTest Targets:\", test_targets.shape)"
   ],
   "metadata": {
    "collapsed": false,
    "pycharm": {
     "name": "#%%\n",
     "is_executing": false
    }
   }
  },
  {
   "cell_type": "markdown",
   "source": [
    "## b. Datasets"
   ],
   "metadata": {
    "collapsed": false,
    "pycharm": {
     "name": "#%% md\n"
    }
   }
  },
  {
   "cell_type": "code",
   "execution_count": 17,
   "outputs": [
    {
     "data": {
      "text/plain": "                0           1           2           3           4           5  \\\ncount  303.000000  303.000000  303.000000  303.000000  303.000000  303.000000   \nmean     4.128715   11.562706   11.314983    0.052805    0.562069    6.245337   \nstd     10.035346   23.609216    6.865435    0.224015    0.119719    0.688786   \nmin      0.006320    0.000000    0.740000    0.000000    0.385000    3.561000   \n25%      0.083475    0.000000    5.190000    0.000000    0.458000    5.871000   \n50%      0.289600    0.000000    9.690000    0.000000    0.538000    6.193000   \n75%      4.179355   12.500000   18.100000    0.000000    0.647000    6.571000   \nmax     88.976200   95.000000   27.740000    1.000000    0.871000    8.704000   \n\n                6          7           8           9          10          11  \\\ncount  303.000000  303.00000  303.000000  303.000000  303.000000  303.000000   \nmean    70.691089    3.69792    9.577558  407.254125   18.533993  351.000990   \nstd     27.568811    2.06289    8.751523  168.911959    2.204180   99.570987   \nmin      2.900000    1.16910    1.000000  188.000000   12.600000    0.320000   \n25%     47.300000    2.00370    4.000000  280.000000   17.400000  374.110000   \n50%     81.600000    3.11210    5.000000  330.000000   19.100000  391.130000   \n75%     94.700000    5.10855   24.000000  666.000000   20.200000  396.220000   \nmax    100.000000   10.71030   24.000000  711.000000   22.000000  396.900000   \n\n               12     Targets  \ncount  303.000000  303.000000  \nmean    13.097294   21.765677  \nstd      7.277497    8.822826  \nmin      1.980000    5.000000  \n25%      7.185000   15.650000  \n50%     12.030000   20.600000  \n75%     17.275000   24.400000  \nmax     34.770000   50.000000  ",
      "text/html": "<div>\n<style scoped>\n    .dataframe tbody tr th:only-of-type {\n        vertical-align: middle;\n    }\n\n    .dataframe tbody tr th {\n        vertical-align: top;\n    }\n\n    .dataframe thead th {\n        text-align: right;\n    }\n</style>\n<table border=\"1\" class=\"dataframe\">\n  <thead>\n    <tr style=\"text-align: right;\">\n      <th></th>\n      <th>0</th>\n      <th>1</th>\n      <th>2</th>\n      <th>3</th>\n      <th>4</th>\n      <th>5</th>\n      <th>6</th>\n      <th>7</th>\n      <th>8</th>\n      <th>9</th>\n      <th>10</th>\n      <th>11</th>\n      <th>12</th>\n      <th>Targets</th>\n    </tr>\n  </thead>\n  <tbody>\n    <tr>\n      <th>count</th>\n      <td>303.000000</td>\n      <td>303.000000</td>\n      <td>303.000000</td>\n      <td>303.000000</td>\n      <td>303.000000</td>\n      <td>303.000000</td>\n      <td>303.000000</td>\n      <td>303.00000</td>\n      <td>303.000000</td>\n      <td>303.000000</td>\n      <td>303.000000</td>\n      <td>303.000000</td>\n      <td>303.000000</td>\n      <td>303.000000</td>\n    </tr>\n    <tr>\n      <th>mean</th>\n      <td>4.128715</td>\n      <td>11.562706</td>\n      <td>11.314983</td>\n      <td>0.052805</td>\n      <td>0.562069</td>\n      <td>6.245337</td>\n      <td>70.691089</td>\n      <td>3.69792</td>\n      <td>9.577558</td>\n      <td>407.254125</td>\n      <td>18.533993</td>\n      <td>351.000990</td>\n      <td>13.097294</td>\n      <td>21.765677</td>\n    </tr>\n    <tr>\n      <th>std</th>\n      <td>10.035346</td>\n      <td>23.609216</td>\n      <td>6.865435</td>\n      <td>0.224015</td>\n      <td>0.119719</td>\n      <td>0.688786</td>\n      <td>27.568811</td>\n      <td>2.06289</td>\n      <td>8.751523</td>\n      <td>168.911959</td>\n      <td>2.204180</td>\n      <td>99.570987</td>\n      <td>7.277497</td>\n      <td>8.822826</td>\n    </tr>\n    <tr>\n      <th>min</th>\n      <td>0.006320</td>\n      <td>0.000000</td>\n      <td>0.740000</td>\n      <td>0.000000</td>\n      <td>0.385000</td>\n      <td>3.561000</td>\n      <td>2.900000</td>\n      <td>1.16910</td>\n      <td>1.000000</td>\n      <td>188.000000</td>\n      <td>12.600000</td>\n      <td>0.320000</td>\n      <td>1.980000</td>\n      <td>5.000000</td>\n    </tr>\n    <tr>\n      <th>25%</th>\n      <td>0.083475</td>\n      <td>0.000000</td>\n      <td>5.190000</td>\n      <td>0.000000</td>\n      <td>0.458000</td>\n      <td>5.871000</td>\n      <td>47.300000</td>\n      <td>2.00370</td>\n      <td>4.000000</td>\n      <td>280.000000</td>\n      <td>17.400000</td>\n      <td>374.110000</td>\n      <td>7.185000</td>\n      <td>15.650000</td>\n    </tr>\n    <tr>\n      <th>50%</th>\n      <td>0.289600</td>\n      <td>0.000000</td>\n      <td>9.690000</td>\n      <td>0.000000</td>\n      <td>0.538000</td>\n      <td>6.193000</td>\n      <td>81.600000</td>\n      <td>3.11210</td>\n      <td>5.000000</td>\n      <td>330.000000</td>\n      <td>19.100000</td>\n      <td>391.130000</td>\n      <td>12.030000</td>\n      <td>20.600000</td>\n    </tr>\n    <tr>\n      <th>75%</th>\n      <td>4.179355</td>\n      <td>12.500000</td>\n      <td>18.100000</td>\n      <td>0.000000</td>\n      <td>0.647000</td>\n      <td>6.571000</td>\n      <td>94.700000</td>\n      <td>5.10855</td>\n      <td>24.000000</td>\n      <td>666.000000</td>\n      <td>20.200000</td>\n      <td>396.220000</td>\n      <td>17.275000</td>\n      <td>24.400000</td>\n    </tr>\n    <tr>\n      <th>max</th>\n      <td>88.976200</td>\n      <td>95.000000</td>\n      <td>27.740000</td>\n      <td>1.000000</td>\n      <td>0.871000</td>\n      <td>8.704000</td>\n      <td>100.000000</td>\n      <td>10.71030</td>\n      <td>24.000000</td>\n      <td>711.000000</td>\n      <td>22.000000</td>\n      <td>396.900000</td>\n      <td>34.770000</td>\n      <td>50.000000</td>\n    </tr>\n  </tbody>\n</table>\n</div>"
     },
     "metadata": {},
     "output_type": "execute_result",
     "execution_count": 17
    }
   ],
   "source": [
    "houses_train = pd.DataFrame(x_train)\n",
    "houses_test = pd.DataFrame(x_test)\n",
    "houses_train[\"Targets\"] = train_targets\n",
    "houses_test[\"Targets\"] = test_targets\n",
    "houses_validate = houses_train.tail(101)\n",
    "houses_train = houses_train.head(303)\n"
   ],
   "metadata": {
    "collapsed": false,
    "pycharm": {
     "name": "#%%\n",
     "is_executing": false
    }
   }
  },
  {
   "cell_type": "markdown",
   "source": [
    "The targets are added to the DataFrame and the validation set is taken from the last fourth of the training set.\n",
    "\n",
    "## c. Synthetic Feature"
   ],
   "metadata": {
    "collapsed": false,
    "pycharm": {
     "name": "#%% md\n"
    }
   }
  },
  {
   "cell_type": "code",
   "execution_count": 19,
   "outputs": [],
   "source": [
    "def add_synthetic_feature(source_data):\n",
    "    data = source_data.copy()\n",
    "    data[\"Aged Value\"] = data[12] * (1 - data[6])\n",
    "    return data\n",
    "\n",
    "houses_train = add_synthetic_feature(houses_train)\n",
    "houses_validate = add_synthetic_feature(houses_validate)\n",
    "houses_test = add_synthetic_feature(houses_test)"
   ],
   "metadata": {
    "collapsed": false,
    "pycharm": {
     "name": "#%%\n",
     "is_executing": false
    }
   }
  },
  {
   "cell_type": "markdown",
   "source": [
    "I created the aged value synthetic feature which is the median value of the house multiplied by the inverse of the \n",
    "proportion of houses built before 1940, meaning that values are higher for newer houses. This feature could be useful\n",
    "because it could help indicate future value, since older houses are more likely to have issues."
   ],
   "metadata": {
    "collapsed": false,
    "pycharm": {
     "name": "#%% md\n"
    }
   }
  }
 ],
 "metadata": {
  "kernelspec": {
   "display_name": "Python 3",
   "language": "python",
   "name": "python3"
  },
  "language_info": {
   "codemirror_mode": {
    "name": "ipython",
    "version": 2
   },
   "file_extension": ".py",
   "mimetype": "text/x-python",
   "name": "python",
   "nbconvert_exporter": "python",
   "pygments_lexer": "ipython2",
   "version": "2.7.6"
  },
  "pycharm": {
   "stem_cell": {
    "cell_type": "raw",
    "source": [],
    "metadata": {
     "collapsed": false
    }
   }
  }
 },
 "nbformat": 4,
 "nbformat_minor": 0
}