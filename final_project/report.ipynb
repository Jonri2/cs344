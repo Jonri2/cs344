{
 "cells": [
  {
   "cell_type": "markdown",
   "metadata": {
    "collapsed": true,
    "pycharm": {
     "name": "#%% md\n"
    }
   },
   "source": [
    "# Transfer Learning for text reviews with Word2Vec and LSTM\n",
    "\n",
    "Jonathan Ellis\n",
    "\n",
    "CS 344 Final Project\n",
    "\n",
    "# Vision\n",
    "This goal of this project is to design a machine learning model that will take a runner's text analysis of their race and\n",
    "quantify their attitude and effort. This will allow coaches and team leaders to get a better idea of the mentality of\n",
    "each runner and the team as a whole, helping them develop a better plan to help the team improve after a race. The\n",
    "inspiration for this project came from my coaches on the Calvin University Cross Country team. They emphasize the importance of focusing on attitude and effort in\n",
    "competition since these two factors are some of the only controllable elements in running. Because of this emphasis, our team developed\n",
    "a [post-race analysis website](calvinpostrace.herokuapp.com) so every runner could write about how their race went and rate themselves for attitude and\n",
    "effort on a scale from 1-10. The data from this website are used to train the model. However, since there are so few samples\n",
    "from the website, a model is first trained on an Amazon Reviews dataset before being applied to the post-race data so that the\n",
    "post-race model has some insights before training even begins.\n",
    "\n",
    "# Background\n",
    "The post-race website is hosted using [MongoDB](https://www.mongodb.com/) which is a document database that stores data\n",
    "as objects in JSON-like documents. This data could be easily trained using a model from [Keras](https://keras.io/) / [TensorFlow](https://www.tensorflow.org/).\n",
    "I chose to use these technologies because we had a lot of experience with them in class. In order to train the model using\n",
    "Keras, the data must first be converted into vector representations using Word2Vec.\n",
    "## Word2Vec\n",
    "[Word2Vec](https://radimrehurek.com/gensim/models/word2vec.html) is a function implemented by Gensim. According to Wikipedia[[1]](https://en.wikipedia.org/wiki/Word2vec), “Word2vec is a\n",
    "group of related models that are used to produce word embeddings. These models are shallow, two-layer neural networks\n",
    "that are trained to reconstruct linguistic contexts of words.” It was created by Thomas Mikolov at Google in 2013[[1]](https://en.wikipedia.org/wiki/Word2vec). It takes\n",
    "in a lot of text data and produces a \"vector space\" representation where similar words are close to each other in the space.\n",
    "These word embeddings[[13]](https://developers.google.com/machine-learning/crash-course/embeddings/video-lecture) are created using 2 primary techniques. \n",
    "\n",
    "#### 1. Continuous Bag of Words\n",
    "The Continuous Bag of Words, or CBOW, technique takes a window of surrounding context words to predict a target word. The order of the context\n",
    "words does not influence prediction, hence the term \"Bag of Words.\"\n",
    "#### 2. Skip-gram\n",
    "The Skip-gram technique uses a word to predict the surrounding context words. It will weigh words that are closer to the target\n",
    "word in context more than words that are farther away.\n",
    "\n",
    "This diagram[[2]](https://towardsdatascience.com/another-twitter-sentiment-analysis-with-python-part-6-doc2vec-603f11832504) illustrates these architectures.\n",
    "\n",
    "![](https://miro.medium.com/max/1102/1*6YmcrrGj1_wAmv0BQBarhw.png)\n",
    "\n",
    "As you can see, in CBOW the surrounding context words are weighted and summed to produce a target word. In Skip-gram,\n",
    "the opposite occurs where an input word is used to make the projection and weighted to predict the surrounding context words.\n",
    "\n",
    "## LSTM\n",
    "Long Short-Term Memory[[3]](https://en.wikipedia.org/wiki/Long_short-term_memory), or LSTM, was proposed by Sepp Hochreiter and Jurgen Smidhuber[[4]](https://www.mitpressjournals.org/doi/10.1162/neco.1997.9.8.1735)\n",
    "in 1997. It is a recurrent neural network which solves the vanishing gradient problem[[5]](https://en.wikipedia.org/wiki/Vanishing_gradient_problem).\n",
    "Tradional RNNs[[6]](https://en.wikipedia.org/wiki/Recurrent_neural_network) \"can keep track of arbitrarily long dependencies in the input sequences.\"[[3]](https://en.wikipedia.org/wiki/Long_short-term_memory) This means that when run with back-propogation,\n",
    "the gradient can trend toward 0 and \"vanish\" making learning halt. LSTMs solve this by allowing gradients to \"flow unchanged\" [[3]](https://en.wikipedia.org/wiki/Long_short-term_memory).\n",
    "By eliminating the vanishing gradient problem, LSTMs are able to have \"long\" short-term memory since it doesn't \"forget\" important\n",
    "information when dealing with long sequences because some of the weights are near 0. This allows LSTMs to remember more information,\n",
    "which helps them better determine which information in the sequence is most relevant.\n",
    "\n",
    "## Transfer Learning\n",
    "Transfer learning[[7]](https://en.wikipedia.org/wiki/Transfer_learning) is the process of taking stored information from a\n",
    "previously solved problem and applying it to a different yet similar problem. Take a look at this simple Venn diagram[[8]](http://www.gmatfree.com/module-999/venn-diagrams-and-the-overlapping-set-equation/).\n",
    "\n",
    "![](http://www.gmatfree.com/wp-content/uploads/2014/07/ScreenHunter_156-Oct.-13-14.53.jpg)\n",
    "\n",
    "Suppose A is the domain of one problem and B is the domain of another. The model for domain A will be able to obtain some\n",
    "amount of knowledge about the domain. By giving this knowledge to the model for domain B, it will be able to start\n",
    "with some information about the overlapping section of the two domains, which can help the model learn more effectively.\n",
    "The more the two domains overlap, the more effective transfer learning becomes.\n",
    "\n",
    "## K-fold Cross-Validation\n",
    "K-fold cross-validation is a statistical technique that analyzes how the results of a model will generalize to an independent\n",
    "dataset[[9]](https://en.wikipedia.org/wiki/Cross-validation_(statistics).\n",
    "\n",
    "![](https://upload.wikimedia.org/wikipedia/commons/b/b5/K-fold_cross_validation_EN.svg)\n",
    "\n",
    "The data are iterated over k times each of which has a new \"fold\" of data. On each iteration, the testing set is shifted\n",
    "such that all data will be tested once. This method is extremely important when working with small datasets since one\n",
    "small testing set is not very likely to be representative of the whole dataset.\n",
    "\n",
    "# Implementation\n",
    "## Amazon Reviews Model\n",
    "In order to train the Amazon Reviews model, I followed a blog post[[10]](https://towardsdatascience.com/another-twitter-sentiment-analysis-with-python-part-11-cnn-word2vec-41f5e28eda74)\n",
    "by Ricky Kim. This guided me through creating an embedding matrix for the Embedding layer using Word2Vec. I followed a lesson[[11]](https://github.com/fchollet/deep-learning-with-python-notebooks/blob/master/6.2-understanding-recurrent-neural-networks.ipynb)\n",
    "by Francois Chollet in order to implement LSTM using Keras. And I was able to implement transfer learning by referencing a blog post[[12]](https://machinelearningmastery.com/how-to-improve-performance-with-transfer-learning-for-deep-learning-neural-networks/)\n",
    "by Jason Chownlee. By referencing these posts, I was able train word vectors using Word2Vec, implement LSTM, and apply the model using transfer learning.\n",
    "While these sources provided guidance for the project, they dealt with quite different datasets from the Amazon reviews dataset,\n",
    "which resulted in some pretty major adjustments from the sources. One of the biggest changes I had to make was with the target values.\n",
    "The sources specify a binary classification while this dataset is a multiclass classification problem since the ratings\n",
    "are on a 1-5 scale. Other changes included cleaning the reviews and changing the way Word2Vec was implemented to avoid using Doc2Vec.\n",
    "\n",
    "First, the train and test datasets are loaded using [pandas](https://pandas.pydata.org/). I used only about 1/3 of the\n",
    "training data because my computer did not have enough memory to handle 3,000,000 samples. The data are then cleaned by\n",
    "using [re](https://docs.python.org/3/library/re.html) to remove all non-letters and convert to lowercase. The [nltk library](https://www.nltk.org/)\n",
    "is then used to split the reviews into a list of words in order to remove excess whitespace. The data are also split into X and Y sets."
   ]
  },
  {
   "cell_type": "code",
   "execution_count": null,
   "outputs": [],
   "source": [
    "import pandas as pd\n",
    "from nltk.tokenize import WordPunctTokenizer\n",
    "import re\n",
    "\n",
    "def clean_reviews(df):\n",
    "    tokenizer = WordPunctTokenizer()\n",
    "    cleaned_reviews = []\n",
    "    for review in df:\n",
    "        letters_only = re.sub(\"[^a-zA-Z]\", \" \", review)\n",
    "        lower_case = letters_only.lower()\n",
    "        words = tokenizer.tokenize(lower_case)\n",
    "        cleaned_reviews.append((\" \".join(words)).strip())\n",
    "    return pd.DataFrame(cleaned_reviews, columns=['review'])\n",
    "\n",
    "amzn_train_df = pd.read_csv('train.csv', names=['rating', 'title', 'review'])\n",
    "amzn_test_df = pd.read_csv('test.csv', names=['rating', 'title', 'review'])\n",
    "\n",
    "amzn_train_X = clean_reviews(amzn_train_df['review'])['review']\n",
    "amzn_train_Y = amzn_train_df['rating']\n",
    "\n",
    "amzn_test_X = clean_reviews(amzn_test_df['review'])['review']\n",
    "amzn_test_Y = amzn_test_df['rating']\n",
    "amzn_all_X = pd.concat([amzn_train_X, amzn_test_X])"
   ],
   "metadata": {
    "collapsed": false,
    "pycharm": {
     "name": "#%%\n"
    }
   }
  },
  {
   "cell_type": "markdown",
   "source": [
    "The reviews are then tokenized using the Keras tokenizer and preprocessed by converting the texts to sequences and padding\n",
    "them all to the same length."
   ],
   "metadata": {
    "collapsed": false,
    "pycharm": {
     "name": "#%% md\n"
    }
   }
  },
  {
   "cell_type": "code",
   "execution_count": null,
   "outputs": [],
   "source": [
    "from keras.preprocessing.text import Tokenizer\n",
    "from keras.preprocessing.sequence import pad_sequences\n",
    "\n",
    "NUM_WORDS = 30000\n",
    "MAX_LENGTH = 250\n",
    "\n",
    "def preprocess_reviews(df, tokenizer):\n",
    "    sequences = tokenizer.texts_to_sequences(df)\n",
    "    return pad_sequences(sequences, maxlen=MAX_LENGTH)\n",
    "\n",
    "tokenizer = Tokenizer(num_words=NUM_WORDS)\n",
    "tokenizer.fit_on_texts(amzn_all_X)\n",
    "\n",
    "amzn_train_X = preprocess_reviews(amzn_train_X, tokenizer)\n",
    "amzn_test_X = preprocess_reviews(amzn_test_X, tokenizer)"
   ],
   "metadata": {
    "collapsed": false,
    "pycharm": {
     "name": "#%%\n"
    }
   }
  },
  {
   "cell_type": "markdown",
   "source": [
    "The embedding matrix is then created by using the [gensim](https://pypi.org/project/gensim/) module's Word2Vec function.\n",
    "Both the train and test dataset are used to train the word vectors. The vectors, as well as the tokenizer, are then used\n",
    "to create the embedding matrix. The feature vectors are encoded with both Continuous Bag of Words and Skip-gram techniques."
   ],
   "metadata": {
    "collapsed": false,
    "pycharm": {
     "name": "#%% md\n"
    }
   }
  },
  {
   "cell_type": "code",
   "execution_count": null,
   "outputs": [],
   "source": [
    "import numpy as np\n",
    "from gensim.models.word2vec import Word2Vec\n",
    "import multiprocessing\n",
    "from sklearn import utils\n",
    "\n",
    "VECTOR_DIM = 100\n",
    "\n",
    "def reviews_to_word_list(list_reviews):\n",
    "    tokenizer = WordPunctTokenizer()\n",
    "    reviews = []\n",
    "    for text in list_reviews:\n",
    "        txt = tokenizer.tokenize(text)\n",
    "        reviews.append(txt)\n",
    "    return reviews\n",
    "\n",
    "processed_reviews = reviews_to_word_list(amzn_all_X)\n",
    "cores = multiprocessing.cpu_count()\n",
    "\n",
    "model_cbow = Word2Vec(sg=0, size=VECTOR_DIM // 2, negative=5, window=2, min_count=2, workers=cores)\n",
    "model_cbow.build_vocab(processed_reviews)\n",
    "model_cbow.train(utils.shuffle(processed_reviews), total_examples=model_cbow.corpus_count, epochs=30)\n",
    "\n",
    "model_sg = Word2Vec(sg=1, size=VECTOR_DIM // 2, negative=5, window=2, min_count=2, workers=cores)\n",
    "model_sg.build_vocab(processed_reviews)\n",
    "model_sg.train(utils.shuffle(processed_reviews), total_examples=model_sg.corpus_count, epochs=30)\n",
    "\n",
    "embeddings_index = {}\n",
    "for w in model_cbow.wv.vocab.keys():\n",
    "    embeddings_index[w] = np.append(model_cbow.wv[w], model_sg.wv[w])\n",
    "    \n",
    "embedding_matrix = np.zeros((NUM_WORDS, VECTOR_DIM))\n",
    "for word, i in tokenizer.word_index.items():\n",
    "    if i >= NUM_WORDS:\n",
    "        continue\n",
    "    embedding_vector = embeddings_index.get(word)\n",
    "    if embedding_vector is not None:\n",
    "        embedding_matrix[i] = embedding_vector\n",
    "        "
   ],
   "metadata": {
    "collapsed": false,
    "pycharm": {
     "name": "#%%\n"
    }
   }
  },
  {
   "cell_type": "markdown",
   "source": [
    "The last thing to do before the model can be created is convert the labels to one-hot encoded vectors. This is done\n",
    "through Keras's to_categorical function. The first column is removed since 0 is not a valid rating. "
   ],
   "metadata": {
    "collapsed": false
   }
  },
  {
   "cell_type": "code",
   "execution_count": null,
   "outputs": [],
   "source": [
    "from keras.utils import to_categorical\n",
    "\n",
    "amzn_train_Y = np.delete(to_categorical(amzn_train_Y), 0, axis=1)\n",
    "amzn_test_Y = np.delete(to_categorical(amzn_test_Y), 0, axis=1)"
   ],
   "metadata": {
    "collapsed": false,
    "pycharm": {
     "name": "#%%\n"
    }
   }
  },
  {
   "cell_type": "markdown",
   "source": [
    "The model now can be created. The first layer is the embedding layer and its weight are innitialized to the embedding\n",
    "matrix. It has size NUM_WORDS x VECTOR_DIM. The next layer is the LSTM layer which has 32 nodes. This is relatively\n",
    "small, but due to the large size of the embedding matrix, overfitting occurs really fast making it better to have fewer\n",
    "nodes. The final layer is a dense layer with softmax activation. It contains the probability that the review is each of\n",
    "the five possible values (1-5)."
   ],
   "metadata": {
    "collapsed": false,
    "pycharm": {
     "name": "#%% md\n"
    }
   }
  },
  {
   "cell_type": "code",
   "execution_count": 7,
   "outputs": [
    {
     "name": "stdout",
     "text": [
      "Model: \"sequential_3\"\n",
      "_________________________________________________________________\n",
      "Layer (type)                 Output Shape              Param #   \n",
      "=================================================================\n",
      "embedding_3 (Embedding)      (None, 250, 100)          3000000   \n",
      "_________________________________________________________________\n",
      "lstm_3 (LSTM)                (None, 32)                17024     \n",
      "_________________________________________________________________\n",
      "dense_3 (Dense)              (None, 5)                 165       \n",
      "=================================================================\n",
      "Total params: 3,017,189\n",
      "Trainable params: 3,017,189\n",
      "Non-trainable params: 0\n",
      "_________________________________________________________________\n"
     ],
     "output_type": "stream"
    }
   ],
   "source": [
    "from keras import models\n",
    "from keras import layers\n",
    "\n",
    "amzn_model = models.Sequential()\n",
    "amzn_model.add(layers.embeddings.Embedding(NUM_WORDS, VECTOR_DIM, input_length=MAX_LENGTH, weights=[embedding_matrix], trainable=True))\n",
    "amzn_model.add(layers.LSTM(32))\n",
    "amzn_model.add(layers.Dense(5, activation='softmax'))\n",
    "amzn_model.summary()"
   ],
   "metadata": {
    "collapsed": false,
    "pycharm": {
     "name": "#%%\n",
     "is_executing": false
    }
   }
  },
  {
   "cell_type": "markdown",
   "source": [
    "The model is then compiled and fit. It is compiled using categorical crossentropy for the loss function which is\n",
    "appropriate given that the problem is multiclass classification. The optimizer used is Adam, but it's the TensorFlow\n",
    "version because the Keras version has some memory issues when working with embedding layers. It is only run for 2 epochs\n",
    "because the model very quickly starts overfitting because of the large embedding layer. Finally, the model is saved so\n",
    "it can later be used in the post-race model."
   ],
   "metadata": {
    "collapsed": false,
    "pycharm": {
     "name": "#%% md\n"
    }
   }
  },
  {
   "cell_type": "code",
   "execution_count": 8,
   "outputs": [
    {
     "name": "stdout",
     "text": [
      "Train on 943718 samples, validate on 104858 samples\n",
      "Epoch 1/2\n",
      " - 3594s - loss: 1.0800 - accuracy: 0.5271 - val_loss: 1.0307 - val_accuracy: 0.5490\n",
      "Epoch 2/2\n",
      " - 3855s - loss: 0.9941 - accuracy: 0.5675 - val_loss: 1.0156 - val_accuracy: 0.5561\n"
     ],
     "output_type": "stream"
    }
   ],
   "source": [
    "import tensorflow as tf\n",
    "from keras.optimizers import TFOptimizer\n",
    "\n",
    "amzn_model.compile(optimizer=TFOptimizer(tf.optimizers.Adam()),\n",
    "              loss='categorical_crossentropy',\n",
    "              metrics=['accuracy'])\n",
    "\n",
    "history = amzn_model.fit(amzn_train_X,\n",
    "                    amzn_train_Y,\n",
    "                    epochs=2,\n",
    "                    batch_size=32,\n",
    "                    validation_split=0.1,\n",
    "                    verbose=2)\n",
    "\n",
    "amzn_model.save('resources/amazon.h5')"
   ],
   "metadata": {
    "collapsed": false,
    "pycharm": {
     "name": "#%%\n",
     "is_executing": false
    }
   }
  },
  {
   "cell_type": "markdown",
   "source": [
    "## Post-race Model\n",
    "\n",
    "The post-race model has to be quite different from the Amazon reviews model because the dataset is so much smaller. To\n",
    "help combat this, K-fold cross-validation is used. Another major difference is that this model requires two output nodes,\n",
    "one for attitude and one for effort. The model uses the Embedding layer from the Amazon reviews model and an LSTM layer\n",
    "and uses the Dense layer for both of these output nodes.\n",
    "\n",
    "To start, the data are loaded from MongoDB using [PyMongo](https://pymongo.readthedocs.io/en/stable/). Once loaded, the\n",
    "data are extracted into X, Y1, and Y2 sets. Each analysis has 4 parts. The general thoughts, turning points, positive\n",
    "and negatives, and a goal assessment. The X set consists of these 4 parts combined and separated by spaces. On the analysis\n",
    "site, the attitude and effort fields are on a 1-10 scale. However, runners often do not rate themselves too poorly or\n",
    "too highly meaning that most of the labels were 7-9. So, I scaled the attitude and effort features accordingly resulting\n",
    "in a 1-5 scale. The Y1 set consists of the attitude labels, and the Y2 set consists of the effort labels. The data are then cleaned using the same function as the Amazon reviews\n",
    "and preprocessed using the same tokenizer."
   ],
   "metadata": {
    "collapsed": false,
    "pycharm": {
     "name": "#%% md\n"
    }
   }
  },
  {
   "cell_type": "code",
   "execution_count": 29,
   "outputs": [],
   "source": [
    "from pymongo import MongoClient\n",
    "\n",
    "MONGO_URL = ''\n",
    "\n",
    "client = MongoClient(MONGO_URL)\n",
    "db = client.calvinpostrace\n",
    "\n",
    "postrace_df = pd.concat([pd.DataFrame(db.archives.find()), pd.DataFrame(db.races.find())], ignore_index=True)\n",
    "\n",
    "def scale_feature(feature):\n",
    "    if feature < 5:\n",
    "        return 1\n",
    "    elif 5 <= feature <= 6:\n",
    "        return 2\n",
    "    elif feature == 7:\n",
    "        return 3\n",
    "    elif feature == 8:\n",
    "        return 4\n",
    "    elif feature > 8:\n",
    "        return 5\n",
    "    else:\n",
    "        raise ValueError\n",
    "\n",
    "analysis_list = []\n",
    "attitude_list = []\n",
    "effort_list = []\n",
    "for index, row in postrace_df.iterrows():\n",
    "    try:\n",
    "        attitude = scale_feature(round(float(row.attitude)))\n",
    "        effort = scale_feature(round(float(row.effort)))\n",
    "        attitude_list.append(attitude)\n",
    "        effort_list.append(effort)\n",
    "    except ValueError:\n",
    "        continue\n",
    "\n",
    "    analysis_parts = [row.thoughts, row.positives, row.goal, row.turnpoint]\n",
    "    analysis_parts = [x for x in analysis_parts if str(x) != \"nan\"]\n",
    "    analysis_list.append(' '.join(analysis_parts))\n",
    "\n",
    "postrace_X = clean_reviews(analysis_list)['review']\n",
    "postrace_Y1 = np.array(attitude_list)\n",
    "postrace_Y2 = np.array(effort_list)\n",
    "\n",
    "postrace_X = preprocess_reviews(postrace_X, tokenizer)"
   ],
   "metadata": {
    "collapsed": false,
    "pycharm": {
     "name": "#%%\n",
     "is_executing": false
    }
   }
  },
  {
   "cell_type": "markdown",
   "source": [
    "Once the data are prepared, the K-fold cross-validation is ready to be done using [sklearn](https://scikit-learn.org/stable/). The model is looped through K times (in\n",
    "this case 10) and for each loop the X, Y1, and Y2 train and test datasets change so that each sample is used once as\n",
    "a test. The model is compiled, fit, and evaluated each time, resulting in 10 runs using the model.\n",
    "\n",
    "The model itself is initialized to the Amazon reviews model, using the output layer to initialize both of the output\n",
    "layers of the new model. The embedding layer is switched to untrainable to prevent more overfitting. The fitting of the\n",
    "model is only verbose for the first run for brevity."
   ],
   "metadata": {
    "collapsed": false,
    "pycharm": {
     "name": "#%% md\n"
    }
   }
  },
  {
   "cell_type": "code",
   "execution_count": 59,
   "outputs": [
    {
     "name": "stdout",
     "text": [
      "Model: \"model_146\"\n",
      "__________________________________________________________________________________________________\n",
      "Layer (type)                    Output Shape         Param #     Connected to                     \n",
      "==================================================================================================\n",
      "input_146 (InputLayer)          (None, 250)          0                                            \n",
      "__________________________________________________________________________________________________\n",
      "embedding_3 (Embedding)         (None, 250, 100)     3000000     input_146[0][0]                  \n",
      "__________________________________________________________________________________________________\n",
      "lstm_3 (LSTM)                   (None, 32)           17024       embedding_3[1][0]                \n",
      "__________________________________________________________________________________________________\n",
      "dense_3 (Dense)                 (None, 5)            165         lstm_3[1][0]                     \n",
      "                                                                 lstm_3[1][0]                     \n",
      "==================================================================================================\n",
      "Total params: 3,017,189\n",
      "Trainable params: 17,189\n",
      "Non-trainable params: 3,000,000\n",
      "__________________________________________________________________________________________________\n",
      "Train on 327 samples, validate on 37 samples\n",
      "Epoch 1/15\n",
      " - 1s - loss: 3.1951 - dense_3_loss: 1.5103 - dense_3_accuracy: 0.3028 - dense_3_accuracy_1: 0.3364 - val_loss: 2.5725 - val_dense_3_loss: 1.5336 - val_dense_3_accuracy: 0.4865 - val_dense_3_accuracy_1: 0.4054\n",
      "Epoch 2/15\n",
      " - 1s - loss: 2.5889 - dense_3_loss: 1.3339 - dense_3_accuracy: 0.4771 - dense_3_accuracy_1: 0.4434 - val_loss: 2.5168 - val_dense_3_loss: 1.4306 - val_dense_3_accuracy: 0.5405 - val_dense_3_accuracy_1: 0.5135\n",
      "Epoch 3/15\n",
      " - 1s - loss: 2.4413 - dense_3_loss: 1.1852 - dense_3_accuracy: 0.5046 - dense_3_accuracy_1: 0.4771 - val_loss: 2.3659 - val_dense_3_loss: 1.3501 - val_dense_3_accuracy: 0.4595 - val_dense_3_accuracy_1: 0.4324\n",
      "Epoch 4/15\n",
      " - 1s - loss: 2.3380 - dense_3_loss: 1.1820 - dense_3_accuracy: 0.5229 - dense_3_accuracy_1: 0.4862 - val_loss: 2.3251 - val_dense_3_loss: 1.3161 - val_dense_3_accuracy: 0.4865 - val_dense_3_accuracy_1: 0.4595\n",
      "Epoch 5/15\n",
      " - 1s - loss: 2.2701 - dense_3_loss: 1.1576 - dense_3_accuracy: 0.5352 - dense_3_accuracy_1: 0.4862 - val_loss: 2.2923 - val_dense_3_loss: 1.2643 - val_dense_3_accuracy: 0.5135 - val_dense_3_accuracy_1: 0.4865\n",
      "Epoch 6/15\n",
      " - 1s - loss: 2.2062 - dense_3_loss: 1.1099 - dense_3_accuracy: 0.5474 - dense_3_accuracy_1: 0.5168 - val_loss: 2.2747 - val_dense_3_loss: 1.2589 - val_dense_3_accuracy: 0.4865 - val_dense_3_accuracy_1: 0.4595\n",
      "Epoch 7/15\n",
      " - 1s - loss: 2.1534 - dense_3_loss: 1.0763 - dense_3_accuracy: 0.5627 - dense_3_accuracy_1: 0.5352 - val_loss: 2.2508 - val_dense_3_loss: 1.2613 - val_dense_3_accuracy: 0.4865 - val_dense_3_accuracy_1: 0.4595\n",
      "Epoch 8/15\n",
      " - 1s - loss: 2.0946 - dense_3_loss: 1.0264 - dense_3_accuracy: 0.5719 - dense_3_accuracy_1: 0.5352 - val_loss: 2.2653 - val_dense_3_loss: 1.2688 - val_dense_3_accuracy: 0.5135 - val_dense_3_accuracy_1: 0.4865\n",
      "Epoch 9/15\n",
      " - 1s - loss: 2.0451 - dense_3_loss: 1.0287 - dense_3_accuracy: 0.5780 - dense_3_accuracy_1: 0.5321 - val_loss: 2.2478 - val_dense_3_loss: 1.2807 - val_dense_3_accuracy: 0.5135 - val_dense_3_accuracy_1: 0.5135\n",
      "Epoch 10/15\n",
      " - 1s - loss: 1.9916 - dense_3_loss: 0.9905 - dense_3_accuracy: 0.6024 - dense_3_accuracy_1: 0.5627 - val_loss: 2.2339 - val_dense_3_loss: 1.3007 - val_dense_3_accuracy: 0.5676 - val_dense_3_accuracy_1: 0.5405\n",
      "Epoch 11/15\n",
      " - 1s - loss: 1.9421 - dense_3_loss: 1.0213 - dense_3_accuracy: 0.6208 - dense_3_accuracy_1: 0.5810 - val_loss: 2.2424 - val_dense_3_loss: 1.3333 - val_dense_3_accuracy: 0.5676 - val_dense_3_accuracy_1: 0.5676\n",
      "Epoch 12/15\n",
      " - 1s - loss: 1.8916 - dense_3_loss: 0.9512 - dense_3_accuracy: 0.6300 - dense_3_accuracy_1: 0.5994 - val_loss: 2.2495 - val_dense_3_loss: 1.3447 - val_dense_3_accuracy: 0.5135 - val_dense_3_accuracy_1: 0.5405\n",
      "Epoch 13/15\n",
      " - 1s - loss: 1.8390 - dense_3_loss: 0.9342 - dense_3_accuracy: 0.6391 - dense_3_accuracy_1: 0.6024 - val_loss: 2.2327 - val_dense_3_loss: 1.3348 - val_dense_3_accuracy: 0.5135 - val_dense_3_accuracy_1: 0.5405\n",
      "Epoch 14/15\n",
      " - 1s - loss: 1.7932 - dense_3_loss: 0.9150 - dense_3_accuracy: 0.6422 - dense_3_accuracy_1: 0.6269 - val_loss: 2.2326 - val_dense_3_loss: 1.3415 - val_dense_3_accuracy: 0.5405 - val_dense_3_accuracy_1: 0.5405\n",
      "Epoch 15/15\n",
      " - 1s - loss: 1.7456 - dense_3_loss: 0.8765 - dense_3_accuracy: 0.6544 - dense_3_accuracy_1: 0.6697 - val_loss: 2.2249 - val_dense_3_loss: 1.3619 - val_dense_3_accuracy: 0.5676 - val_dense_3_accuracy_1: 0.5405\n",
      "Run 1 attitude accuracy: 56.76%\n",
      "Run 1 effort accuracy: 54.05%\n",
      "Run 2 attitude accuracy: 59.46%\n",
      "Run 2 effort accuracy: 51.35%\n",
      "Run 3 attitude accuracy: 56.76%\n",
      "Run 3 effort accuracy: 51.35%\n",
      "Run 4 attitude accuracy: 43.24%\n",
      "Run 4 effort accuracy: 32.43%\n",
      "Run 5 attitude accuracy: 50.00%\n",
      "Run 5 effort accuracy: 47.22%\n",
      "Run 6 attitude accuracy: 50.00%\n",
      "Run 6 effort accuracy: 44.44%\n",
      "Run 7 attitude accuracy: 44.44%\n",
      "Run 7 effort accuracy: 52.78%\n",
      "Run 8 attitude accuracy: 50.00%\n",
      "Run 8 effort accuracy: 50.00%\n",
      "Run 9 attitude accuracy: 47.22%\n",
      "Run 9 effort accuracy: 44.44%\n",
      "Run 10 attitude accuracy: 55.56%\n",
      "Run 10 effort accuracy: 55.56%\n"
     ],
     "output_type": "stream"
    }
   ],
   "source": [
    "from sklearn.model_selection import StratifiedKFold\n",
    "from keras.models import load_model\n",
    "\n",
    "kfold = StratifiedKFold(n_splits=10, shuffle=True, random_state=5)\n",
    "attitude_scores = []\n",
    "effort_scores = []\n",
    "attitude_confusion_matrices = []\n",
    "effort_confusion_matrices = []\n",
    "count = 1\n",
    "verbose = 2\n",
    "for train, test in kfold.split(postrace_X, postrace_Y1, postrace_Y2):\n",
    "    postrace_train_Y1 = np.delete(to_categorical(postrace_Y1[train]), 0, axis=1)\n",
    "    postrace_test_Y1 = np.delete(to_categorical(postrace_Y1[test]), 0, axis=1)\n",
    "    postrace_train_Y2 = np.delete(to_categorical(postrace_Y2[train]), 0, axis=1)\n",
    "    postrace_test_Y2 = np.delete(to_categorical(postrace_Y2[test]), 0, axis=1)\n",
    "    \n",
    "    amzn_model = load_model('resources/amazon.h5')\n",
    "    amzn_model.layers[0].trainable = False\n",
    "    input1 = layers.Input(shape=(MAX_LENGTH,))\n",
    "    x = amzn_model.layers[0](input1)\n",
    "    x = amzn_model.layers[1](x)\n",
    "    out1 = amzn_model.layers[2](x)\n",
    "    out2 = amzn_model.layers[2](x)\n",
    "    postrace_model = models.Model(inputs=input1, outputs=[out1,out2])\n",
    "    \n",
    "    if count == 1:\n",
    "        postrace_model.summary()\n",
    "    else:\n",
    "        verbose = 0\n",
    "\n",
    "    postrace_model.compile(optimizer=TFOptimizer(tf.optimizers.Adam()),\n",
    "                  loss='categorical_crossentropy',\n",
    "                  metrics=['accuracy'])\n",
    "\n",
    "    history = postrace_model.fit(postrace_X[train],\n",
    "                        [postrace_train_Y1,postrace_train_Y2],\n",
    "                        epochs=15,\n",
    "                        batch_size=32,\n",
    "                        validation_data=(postrace_X[test], [postrace_test_Y1, postrace_test_Y2]),\n",
    "                        verbose=verbose)\n",
    "    score = postrace_model.evaluate(postrace_X[test], [postrace_test_Y1, postrace_test_Y2], verbose=0)\n",
    "    print(\"Run %d attitude accuracy: %.2f%%\" % (count, score[3] * 100))\n",
    "    attitude_scores.append(score[3] * 100)\n",
    "    print(\"Run %d effort accuracy: %.2f%%\" % (count, score[4] * 100))\n",
    "    effort_scores.append(score[4] * 100)\n",
    "\n",
    "    pred_Y = np.array(postrace_model.predict(postrace_X[test]))\n",
    "    pred_Y1 = [np.argmax(x) for x in pred_Y[0]]\n",
    "    pred_Y2 = [np.argmax(x) for x in pred_Y[1]]\n",
    "    true_Y1 = [np.argmax(x) for x in postrace_test_Y1]\n",
    "    true_Y2 = [np.argmax(x) for x in postrace_test_Y2]\n",
    "    attitude_confusion_matrices.append(tf.math.confusion_matrix(labels=true_Y1, predictions=pred_Y1))\n",
    "    effort_confusion_matrices.append(tf.math.confusion_matrix(labels=true_Y2, predictions=pred_Y2))\n",
    "    \n",
    "    count += 1"
   ],
   "metadata": {
    "collapsed": false,
    "pycharm": {
     "name": "#%%\n",
     "is_executing": false
    }
   }
  },
  {
   "cell_type": "markdown",
   "source": [
    "# Results\n",
    "\n",
    "## Amazon Reviews\n",
    "\n",
    "The model achieved 55.6% accuracy. This is extremely good considering that there are 5 possible classifications. Below\n",
    "is a confusion matrix that I created by following a tutorial[14](https://androidkt.com/keras-confusion-matrix-in-tensorboard/)\n",
    "and using [matplotlib](https://matplotlib.org/) and [seaborn](https://seaborn.pydata.org/).\n",
    "The results are very good as the predictions are most frequent for the correct value for all classifications, and when they\n",
    "are incorrect they almost always are within 1 of the true value. I was unable to find similar work to compare my results\n",
    "to because most people do binary classification with sentiment analysis."
   ],
   "metadata": {
    "collapsed": false,
    "pycharm": {
     "name": "#%% md\n"
    }
   }
  },
  {
   "cell_type": "code",
   "execution_count": 10,
   "outputs": [
    {
     "data": {
      "text/plain": "<Figure size 432x288 with 0 Axes>"
     },
     "metadata": {},
     "output_type": "display_data"
    },
    {
     "data": {
      "text/plain": "<Figure size 576x576 with 2 Axes>",
      "image/png": "[encoded data removed]"
     },
     "metadata": {
      "needs_background": "light"
     },
     "output_type": "display_data"
    }
   ],
   "source": [
    "import matplotlib.pyplot as plt\n",
    "import seaborn as sns\n",
    "\n",
    "pred_Y = amzn_model.predict_classes(amzn_test_X)\n",
    "val_Y = [np.argmax(x) for x in amzn_test_Y]\n",
    "confusion_matrix = tf.math.confusion_matrix(labels=val_Y, predictions=pred_Y).numpy()\n",
    "confusion_matrix = np.around(confusion_matrix.astype('float') / confusion_matrix.sum(axis=1)[:, np.newaxis], decimals=2)\n",
    "confusion_matrix = pd.DataFrame(confusion_matrix, index=[1, 2, 3, 4, 5], columns=[1, 2, 3, 4, 5])\n",
    "\n",
    "figure = plt.figure(figsize=(8, 8))\n",
    "sns.heatmap(confusion_matrix, annot=True, cmap=plt.cm.Blues)\n",
    "plt.tight_layout()\n",
    "plt.ylabel('True label')\n",
    "plt.xlabel('Predicted label')\n",
    "plt.show()"
   ],
   "metadata": {
    "collapsed": false,
    "pycharm": {
     "name": "#%%\n",
     "is_executing": false
    }
   }
  },
  {
   "cell_type": "markdown",
   "source": [
    "## Post-race\n",
    "This model was able to achieve 51.3% +/- 5.3% accuracy for attitude and 48.4% +/- 6.4% accuracy for effort. It started in a good place from the\n",
    "Amazon reviews model and learned well from there. Again, with 5 possible classifications, this is a very good accuracy."
   ],
   "metadata": {
    "collapsed": false,
    "pycharm": {
     "name": "#%% md\n"
    }
   }
  },
  {
   "cell_type": "code",
   "execution_count": 62,
   "outputs": [
    {
     "name": "stdout",
     "text": [
      "attitude accuracy: 51.34% (+/- 5.27%)\n",
      "effort accuracy: 48.36% (+/- 6.40%)\n"
     ],
     "output_type": "stream"
    }
   ],
   "source": [
    "print(\"attitude accuracy: %.2f%% (+/- %.2f%%)\" % (np.mean(attitude_scores), np.std(attitude_scores)))\n",
    "print(\"effort accuracy: %.2f%% (+/- %.2f%%)\" % (np.mean(effort_scores), np.std(effort_scores)))"
   ],
   "metadata": {
    "collapsed": false,
    "pycharm": {
     "name": "#%%\n",
     "is_executing": false
    }
   }
  },
  {
   "cell_type": "markdown",
   "source": [
    "However, the accuracy is a little misleading in telling how well the model is performing. The confusion matrices below\n",
    "show that while the model does contain some good trends, it is best at picking 5s which is the most frequent classification\n",
    "in the dataset. This bias caused by an uneven distribution in the dataset, is one of the many problems caused by training\n",
    "on small datasets."
   ],
   "metadata": {
    "collapsed": false,
    "pycharm": {
     "name": "#%% md\n"
    }
   }
  },
  {
   "cell_type": "code",
   "execution_count": 61,
   "outputs": [
    {
     "data": {
      "text/plain": "<Figure size 432x288 with 0 Axes>"
     },
     "metadata": {},
     "output_type": "display_data"
    },
    {
     "data": {
      "text/plain": "<Figure size 576x576 with 2 Axes>",
      "image/png": "[encoded data removed]"
     },
     "metadata": {
      "needs_background": "light"
     },
     "output_type": "display_data"
    },
    {
     "data": {
      "text/plain": "<Figure size 432x288 with 0 Axes>"
     },
     "metadata": {},
     "output_type": "display_data"
    },
    {
     "data": {
      "text/plain": "<Figure size 576x576 with 2 Axes>",
      "image/png": "[encoded data removed]"
     },
     "metadata": {
      "needs_background": "light"
     },
     "output_type": "display_data"
    }
   ],
   "source": [
    "attitude_confusion_matrix = np.sum(np.array(attitude_confusion_matrices), axis=0)\n",
    "attitude_confusion_matrix = np.around(attitude_confusion_matrix.astype('float') / attitude_confusion_matrix.sum(axis=1)[:, np.newaxis], decimals=2)\n",
    "attitude_confusion_matrix = pd.DataFrame(attitude_confusion_matrix, index=[1, 2, 3, 4, 5], columns=[1, 2, 3, 4, 5])\n",
    "\n",
    "plt.clf()\n",
    "figure = plt.figure(figsize=(8, 8))\n",
    "sns.heatmap(attitude_confusion_matrix, annot=True, cmap=plt.cm.Blues)\n",
    "plt.tight_layout()\n",
    "plt.ylabel('True label')\n",
    "plt.xlabel('Predicted label')\n",
    "plt.show()\n",
    "\n",
    "effort_confusion_matrix = np.sum(np.array(effort_confusion_matrices), axis=0)\n",
    "effort_confusion_matrix = np.around(effort_confusion_matrix.astype('float') / effort_confusion_matrix.sum(axis=1)[:, np.newaxis], decimals=2)\n",
    "effort_confusion_matrix = pd.DataFrame(effort_confusion_matrix, index=[1, 2, 3, 4, 5], columns=[1, 2, 3, 4, 5])\n",
    "\n",
    "plt.clf()\n",
    "figure = plt.figure(figsize=(8, 8))\n",
    "sns.heatmap(effort_confusion_matrix, annot=True, cmap=plt.cm.Blues)\n",
    "plt.tight_layout()\n",
    "plt.ylabel('True label')\n",
    "plt.xlabel('Predicted label')\n",
    "plt.show()"
   ],
   "metadata": {
    "collapsed": false,
    "pycharm": {
     "name": "#%%\n",
     "is_executing": false
    }
   }
  },
  {
   "cell_type": "markdown",
   "source": [
    "# Implications\n",
    "\n",
    "In any project, there are resulting implications than can have both a social\n",
    "and an ethical impact. In the case of this particular trained model, I find that the bias of the post-race model toward\n",
    "positive results could raise concerns. The model would be contributing to the problem of overpraising. There are social\n",
    "implications if everyone thinks they're a winner, or at least if they are affirmed that they have done something better\n",
    "than they truly have. People, or in this case runners, could learn that they don't have to work harder for good results.\n",
    "They could become content with where they are and stop training hard to do better and truly realize their goals.\n",
    "\n",
    "In terms of transfer learning as a whole, there is a lot of potential for growth in the field. If this occurs, then\n",
    "machines will become even better at learning since they can have information about many different domains. As a result,\n",
    "the machine may be able to learn enough knowledge about different domains that its ability to retain information about\n",
    "different topics and draw conclusions from different domains becomes similar to a human's ability. This brings up some common\n",
    "questions in the field of AI, such as \"is the machine truly learning or thinking?\" or \"can machines outperform humans in\n",
    "understanding?\" Transfer learning has the potential to be a very powerful field and it's important to consider the ethical\n",
    "implications when working with this technology.\n",
    "\n",
    "# References\n",
    "1. https://en.wikipedia.org/wiki/Word2vec\n",
    "2. https://towardsdatascience.com/another-twitter-sentiment-analysis-with-python-part-6-doc2vec-603f11832504\n",
    "3. https://en.wikipedia.org/wiki/Long_short-term_memory\n",
    "4. https://www.mitpressjournals.org/doi/10.1162/neco.1997.9.8.1735\n",
    "5. https://en.wikipedia.org/wiki/Vanishing_gradient_problem\n",
    "6. https://en.wikipedia.org/wiki/Recurrent_neural_network\n",
    "7. https://en.wikipedia.org/wiki/Transfer_learning\n",
    "8. http://www.gmatfree.com/module-999/venn-diagrams-and-the-overlapping-set-equation/\n",
    "9. https://en.wikipedia.org/wiki/Cross-validation_(statistics)\n",
    "10. https://towardsdatascience.com/another-twitter-sentiment-analysis-with-python-part-11-cnn-word2vec-41f5e28eda74\n",
    "11. https://github.com/fchollet/deep-learning-with-python-notebooks/blob/master/6.2-understanding-recurrent-neural-networks.ipynb\n",
    "12. https://machinelearningmastery.com/how-to-improve-performance-with-transfer-learning-for-deep-learning-neural-networks/\n",
    "13. https://developers.google.com/machine-learning/crash-course/embeddings/video-lecture\n",
    "14. https://androidkt.com/keras-confusion-matrix-in-tensorboard/\n",
    "\n",
    "# Libraries\n",
    "- numpy: https://numpy.org/\n",
    "- pandas: https://pandas.pydata.org/\n",
    "- keras: https://keras.io/\n",
    "- tensorflow: https://www.tensorflow.org/\n",
    "- gensim: https://pypi.org/project/gensim/\n",
    "- sklearn: https://scikit-learn.org/stable/\n",
    "- matplotlib: https://matplotlib.org/\n",
    "- seaborn: https://seaborn.pydata.org/\n",
    "- nltk: https://www.nltk.org/\n",
    "- pymongo: https://pymongo.readthedocs.io/en/stable/"
   ],
   "metadata": {
    "collapsed": false,
    "pycharm": {
     "name": "#%% md\n"
    }
   }
  }
 ],
 "metadata": {
  "kernelspec": {
   "display_name": "Python 3",
   "language": "python",
   "name": "python3"
  },
  "language_info": {
   "codemirror_mode": {
    "name": "ipython",
    "version": 2
   },
   "file_extension": ".py",
   "mimetype": "text/x-python",
   "name": "python",
   "nbconvert_exporter": "python",
   "pygments_lexer": "ipython2",
   "version": "2.7.6"
  },
  "pycharm": {
   "stem_cell": {
    "cell_type": "raw",
    "source": [],
    "metadata": {
     "collapsed": false
    }
   }
  }
 },
 "nbformat": 4,
 "nbformat_minor": 0
}