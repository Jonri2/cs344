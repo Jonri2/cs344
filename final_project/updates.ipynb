{
 "cells": [
  {
   "cell_type": "markdown",
   "metadata": {
    "collapsed": true,
    "pycharm": {
     "name": "#%% md\n"
    }
   },
   "source": [
    "# Updates since the Project Walkthrough\n",
    "- Removed bidirectional and dropout layers from LSTM because they didn't work well with the post-race model\n",
    "- Decreased the number of words from 100000 to 30000, the maximum length from 440 to 250, and the vector dimension from\n",
    "200 to 100 in order to decrease the size of the embedding layer\n",
    "- Switched the embedding layer in the amazon model to be trainable\n",
    "- Added a second output layer to the post-race model so that attitude and effort could be separate\n",
    "- Scaled the labels of the post-race data\n",
    "- Improved the accuracy of the post-race model by about 15%\n"
   ]
  }
 ],
 "metadata": {
  "kernelspec": {
   "display_name": "Python 3",
   "language": "python",
   "name": "python3"
  },
  "language_info": {
   "codemirror_mode": {
    "name": "ipython",
    "version": 2
   },
   "file_extension": ".py",
   "mimetype": "text/x-python",
   "name": "python",
   "nbconvert_exporter": "python",
   "pygments_lexer": "ipython2",
   "version": "2.7.6"
  },
  "pycharm": {
   "stem_cell": {
    "cell_type": "raw",
    "source": [],
    "metadata": {
     "collapsed": false
    }
   }
  }
 },
 "nbformat": 4,
 "nbformat_minor": 0
}