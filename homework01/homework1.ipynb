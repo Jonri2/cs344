{
 "cells": [
  {
   "cell_type": "markdown",
   "metadata": {
    "collapsed": true
   },
   "source": [
    "# Homework 1"
   ]
  },
  {
   "cell_type": "markdown",
   "metadata": {},
   "source": [
    "## 1.1\n",
    "\n",
    "Introspection would not be adequate in and of itself to help with modelling human cognitive processes because it is seen\n",
    "from an entirely human perspective. It would take for granted all of the mechanisms which we as humans don't even have\n",
    "to consciously think about. For example, we as humans solve simple problems like eating when we're hungry and going to\n",
    "sleep when we're tired every day. We never have to explicitly think about how to eat we have to go to the pantry, decide\n",
    "what we \"want\" to eat, then prepare it, put it on a plate, and put it in our mouths. We also don't have to think about\n",
    "how to digest that food and get the essential nutrients that our body needs to survive. Through introspection, it is\n",
    "nearly impossible to come up with all the steps it took to solve a problem.\n",
    "\n",
    "Introspection can, however, be used to get the general idea of how a cognitive process works and then adapt it to work\n",
    "with a machine. Take solving sudoku with constraint satisfaction, for example. Introspection was most likely used to\n",
    "determine that humans often solve sudoku using constraint satisfaction, and then that was able to be applied to a\n",
    "machine in a similar fashion. So, introspection can be helpful in modeling human cognitive processes to an extent, but\n",
    "it often misses some key mechanisms that humans don't have to think about."
   ]
  },
  {
   "cell_type": "markdown",
   "metadata": {},
   "source": [
    "## 1.2\n",
    "\n",
    "In my TSP problem formulation, the state is represented by an ordered list of numbers representing cities in which each\n",
    "city number appears once. The actions are performed by swapping two city numbers in the list."
   ]
  },
  {
   "cell_type": "code",
   "execution_count": 2,
   "metadata": {
    "pycharm": {
     "is_executing": false
    }
   },
   "outputs": [],
   "source": [
    "from search import Problem\n",
    "\n",
    "\n",
    "class TSP(Problem):\n",
    "    \"\"\"An implementation of the Travelling Salesman Problem for local search.\n",
    "\n",
    "        State representation:\n",
    "            [c1, c2, ..., cn] gives the order of cities to be visited.\n",
    "        Move representation:\n",
    "            [c1, c2]: Swap the two cities\n",
    "        \"\"\"\n",
    "\n",
    "    def __init__(self, graph, initial):\n",
    "        self.graph = graph\n",
    "        self.initial = initial\n",
    "\n",
    "    def actions(self, state):\n",
    "        \"\"\" Actions are all of the permutations of swapping two cities\"\"\"\n",
    "        actions = []\n",
    "        for i in range(len(state)):\n",
    "            for j in range(len(state)):\n",
    "                if i != j:\n",
    "                    actions.append([i, j])\n",
    "        return actions\n",
    "\n",
    "    def result(self, state, move):\n",
    "        \"\"\"Makes the given move on a copy of the given state.\"\"\"\n",
    "        new_state = state[:]\n",
    "        new_state[move[0]] = state[move[1]]\n",
    "        new_state[move[1]] = state[move[0]]\n",
    "        return new_state\n",
    "\n",
    "    def value(self, state):\n",
    "        \"\"\"The value is the sum of all the distances in the state multiplied by -1\n",
    "            to allow for maximization\n",
    "        \"\"\"\n",
    "        value = 0\n",
    "        for i in range(len(state) - 1):\n",
    "            value += self.graph[state[i]][state[i+1]]\n",
    "        value += self.graph[state[-1]][state[0]]\n",
    "        return -value\n"
   ]
  },
  {
   "cell_type": "markdown",
   "metadata": {},
   "source": [
    "This sample city-domain creates a random number of cities (max 50) and assigns random distances between the cities.\n",
    "The TSP is then able to be solved using both hill-climbing and simulated annealing."
   ]
  },
  {
   "cell_type": "code",
   "execution_count": 3,
   "metadata": {
    "pycharm": {
     "is_executing": false
    }
   },
   "outputs": [
    {
     "name": "stdout",
     "text": [
      "\n",
      "Hill-climbing:\n",
      "\tSolution:\t[0, 18, 2, 15, 12, 5, 13, 9, 8, 7, 10, 11, 6, 4, 14, 1, 16, 17, 3]\n",
      "\tValue:\t\t-3124\n",
      "\n",
      "Simulated annealing:\n",
      "\tSolution:\t[0, 3, 17, 6, 4, 14, 12, 15, 8, 7, 10, 11, 2, 9, 13, 5, 1, 16, 18]\n",
      "\tValue:\t\t-2978\n"
     ],
     "output_type": "stream"
    }
   ],
   "source": [
    "from search import hill_climbing, simulated_annealing, exp_schedule\n",
    "import random\n",
    "\n",
    "numCities = random.randint(4, 50)\n",
    "\n",
    "# Initialize distances to all 0\n",
    "distances = []\n",
    "for i in range(numCities):\n",
    "    distances.append([])\n",
    "    for j in range(numCities):\n",
    "        distances[i].append(0)\n",
    "\n",
    "# Populate distances randomly and symmetrically\n",
    "for i in range(numCities):\n",
    "    for j in range(numCities):\n",
    "        if i > j:\n",
    "            rand_dist = random.randint(1, 1000)\n",
    "            distances[i][j] = distances[j][i] = rand_dist\n",
    "\n",
    "initial_state = []\n",
    "for i in range(numCities):\n",
    "    initial_state.append(i)\n",
    "\n",
    "p = TSP(distances, initial_state)\n",
    "\n",
    "# Solve the problem using hill climbing.\n",
    "hill_solution = hill_climbing(p)\n",
    "print('\\nHill-climbing:')\n",
    "print('\\tSolution:\\t' + str(hill_solution))\n",
    "print('\\tValue:\\t\\t' + str(p.value(hill_solution)))\n",
    "\n",
    "# Solve the problem using simulated annealing.\n",
    "annealing_solution = \\\n",
    "    simulated_annealing(p, exp_schedule(k=20, lam=0.005, limit=10000))\n",
    "print('\\nSimulated annealing:')\n",
    "print('\\tSolution:\\t' + str(annealing_solution))\n",
    "print('\\tValue:\\t\\t' + str(p.value(annealing_solution)))\n"
   ]
  },
  {
   "cell_type": "markdown",
   "metadata": {},
   "source": [
    "Simulated annealing is generally able to perform better than hill-climbing on the TSP, but not always. There are so many\n",
    "different combinations of paths to take once the number of cities is at least at 10, and a lot of them result in a\n",
    "longer path, which causes some inconsistency in simulated annealing performing better than hill-climbing consistently.\n",
    "However, simulated annealing is able to perform better than hill-climbing as a whole because there are lots of local\n",
    "maxima in the search space causing hill-climbing to get stuck while simulated annealing is still able to potentially\n",
    "find a better solution."
   ]
  },
  {
   "cell_type": "markdown",
   "metadata": {},
   "source": [
    "## 1.3\n",
    "\n",
    "In my class scheduler problem formulation, the variables are the classes and the domains are the possible\n",
    "faculty-time-classroom combinations. The Scheduler class takes the list of classes, faculty, times, and classrooms along\n",
    "with a dictionary of class-professor assignments to formulate the CSP."
   ]
  },
  {
   "cell_type": "code",
   "execution_count": 4,
   "metadata": {
    "pycharm": {
     "is_executing": false
    }
   },
   "outputs": [],
   "source": [
    "from csp import CSP\n",
    "\n",
    "\n",
    "def scheduler_constraint(A, a, B, b):\n",
    "    a_list = a.split('-')\n",
    "    b_list = b.split('-')\n",
    "    # Fail if the class is repeated\n",
    "    if A == B:\n",
    "        return False\n",
    "    # Fail if the faculty member is scheduled for two classes at the same time\n",
    "    if a_list[0] == b_list[0] and a_list[1] == b_list[1]:\n",
    "        return False\n",
    "    # Fail if the classroom is scheduled for two classes at the same time\n",
    "    if a_list[1] == b_list[1] and a_list[2] == b_list[2]:\n",
    "        return False\n",
    "    return True\n",
    "\n",
    "\n",
    "class Scheduler(CSP):\n",
    "    \"\"\"Build a class scheduler problem. The classes are the variables, the domains are the possible combinations\n",
    "        of faculty, time, and classroom and the neighbors for each class is every other class\"\"\"\n",
    "\n",
    "    def __init__(self, classes, faculty, assignments, times, classrooms):\n",
    "        domains = {}\n",
    "        neighbors = {}\n",
    "        for cs_class in classes:\n",
    "            domains[cs_class] = []\n",
    "            neighbors[cs_class] = []\n",
    "            for faculty_member in faculty:\n",
    "                # Assign the faculty member\n",
    "                if faculty_member == assignments[cs_class]:\n",
    "                    for time in times:\n",
    "                        for classroom in classrooms:\n",
    "                            domains[cs_class].append(faculty_member + '-' + time + '-' + classroom)\n",
    "        for cs_class in classes:\n",
    "            for entry in neighbors:\n",
    "                if cs_class != entry:\n",
    "                    neighbors[entry].append(cs_class)\n",
    "\n",
    "        CSP.__init__(self, classes, domains, neighbors, scheduler_constraint)\n",
    "        "
   ]
  },
  {
   "cell_type": "markdown",
   "source": [
    "This sample scheduler takes in example classes, faculty, assignments, times, and classrooms and uses backtracking\n",
    "search to successfully solve the problem."
   ],
   "metadata": {
    "collapsed": false,
    "pycharm": {
     "name": "#%% md\n"
    }
   }
  },
  {
   "cell_type": "code",
   "execution_count": 5,
   "outputs": [
    {
     "name": "stdout",
     "text": [
      "Class: cs108\n",
      "\tFaculty: vtn2\n",
      "\tTime: mwf800\n",
      "\tClassroom: nh253\n",
      "Class: cs112\n",
      "\tFaculty: adams\n",
      "\tTime: mwf800\n",
      "\tClassroom: sb382\n",
      "Class: cs212\n",
      "\tFaculty: hplantin\n",
      "\tTime: mwf900\n",
      "\tClassroom: nh253\n",
      "Class: cs214\n",
      "\tFaculty: adams\n",
      "\tTime: mwf900\n",
      "\tClassroom: sb382\n",
      "Class: cs262\n",
      "\tFaculty: kvlinden\n",
      "\tTime: mwf1030\n",
      "\tClassroom: nh253\n",
      "Class: cs232\n",
      "\tFaculty: vtn2\n",
      "\tTime: mwf1030\n",
      "\tClassroom: sb382\n",
      "Class: cs384\n",
      "\tFaculty: dschuurman\n",
      "\tTime: mwf1130\n",
      "\tClassroom: nh253\n"
     ],
     "output_type": "stream"
    }
   ],
   "source": [
    "from csp import backtracking_search\n",
    "\n",
    "\n",
    "def print_result(result):\n",
    "    for k in result:\n",
    "        v_list = result[k].split('-')\n",
    "        print('Class:', k)\n",
    "        print('\\tFaculty:', v_list[0])\n",
    "        print('\\tTime:', v_list[1])\n",
    "        print('\\tClassroom:', v_list[2])\n",
    "\n",
    "\n",
    "cs_classes = ['cs108', 'cs112', 'cs212', 'cs214', 'cs262', 'cs232', 'cs384']\n",
    "cs_faculty = ['vtn2', 'adams', 'hplantin', 'kvlinden', 'dschuurman']\n",
    "cs_assignments = {\n",
    "    'cs108': 'vtn2',\n",
    "    'cs112': 'adams',\n",
    "    'cs212': 'hplantin',\n",
    "    'cs214': 'adams',\n",
    "    'cs262': 'kvlinden',\n",
    "    'cs232': 'vtn2',\n",
    "    'cs384': 'dschuurman'\n",
    "}\n",
    "cs_times = ['mwf800', 'mwf900', 'mwf1030', 'mwf1130']\n",
    "cs_classrooms = ['nh253', 'sb382']\n",
    "scheduler = Scheduler(cs_classes, cs_faculty, cs_assignments, cs_times, cs_classrooms)\n",
    "result = backtracking_search(scheduler)\n",
    "print_result(result)"
   ],
   "metadata": {
    "collapsed": false,
    "pycharm": {
     "name": "#%%\n",
     "is_executing": false
    }
   }
  },
  {
   "cell_type": "markdown",
   "source": [
    "I formulated this problem using the classes as the variables and the faculty-time-classroom combinations as the domains\n",
    "because it was the easiest way to handle all of the lists of data used to formulate the problem. The classes list was\n",
    "able to directly become the variables and the other lists were able to be easily looped through to determine the\n",
    "possible combinations for each class."
   ],
   "metadata": {
    "collapsed": false,
    "pycharm": {
     "name": "#%% md\n"
    }
   }
  }
 ],
 "metadata": {
  "kernelspec": {
   "name": "python3",
   "language": "python",
   "display_name": "Python 3"
  },
  "language_info": {
   "codemirror_mode": {
    "name": "ipython",
    "version": 3
   },
   "file_extension": ".py",
   "mimetype": "text/x-python",
   "name": "python",
   "nbconvert_exporter": "python",
   "pygments_lexer": "ipython3",
   "version": "3.6.6"
  },
  "pycharm": {
   "stem_cell": {
    "cell_type": "raw",
    "source": [],
    "metadata": {
     "collapsed": false
    }
   }
  }
 },
 "nbformat": 4,
 "nbformat_minor": 1
}